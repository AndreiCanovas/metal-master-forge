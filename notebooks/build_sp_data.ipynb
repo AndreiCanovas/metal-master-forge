{
 "cells": [
  {
   "cell_type": "code",
   "execution_count": 1,
   "metadata": {},
   "outputs": [],
   "source": [
    "import yaml\n",
    "from tqdm import tqdm\n",
    "import pandas as pd\n",
    "import matplotlib.pyplot as plt\n",
    "\n",
    "import spotipy\n",
    "from spotipy.oauth2 import SpotifyClientCredentials\n",
    "\n",
    "from src.utils import *\n",
    "\n",
    "plt.style.use('seaborn')\n",
    "\n",
    "with open(\"config.yaml\") as f:\n",
    "    config = yaml.safe_load(f)\n",
    "    \n",
    "def is_metal_artist(x):\n",
    "    if not x:\n",
    "        return\n",
    "    else:\n",
    "        return any(g in metal_genres for g in x)"
   ]
  },
  {
   "cell_type": "code",
   "execution_count": 2,
   "metadata": {},
   "outputs": [],
   "source": [
    "# Use the SpotifyClientCredentials object to authenticate with the Spotify API\n",
    "client_credentials_manager = SpotifyClientCredentials(\n",
    "    client_id=config.get('client_id'), \n",
    "    client_secret=config.get('client_secret'),\n",
    ")\n",
    "\n",
    "sp = spotipy.Spotify(\n",
    "    client_credentials_manager = SpotifyClientCredentials(\n",
    "        client_id=config.get('client_id'), \n",
    "        client_secret=config.get('client_secret'),\n",
    "    )\n",
    ")"
   ]
  },
  {
   "cell_type": "code",
   "execution_count": null,
   "metadata": {},
   "outputs": [
    {
     "name": "stderr",
     "output_type": "stream",
     "text": [
      "S data:  69%|██████▉   | 6140/8837 [39:18<17:27,  2.58it/s]  "
     ]
    }
   ],
   "source": [
    "for l in config['alpha_num'][18:19]:\n",
    "    \n",
    "    df = pd.read_csv(f'data/raw/bands_{l}.csv')\n",
    "    \n",
    "    max_iter = 5\n",
    "    artist_dict = []\n",
    "    no_data_artist = []\n",
    "\n",
    "    for name in tqdm(set(df.name.tolist()), f'{l} data'):\n",
    "\n",
    "        total_artist = len(artist_dict)\n",
    "\n",
    "        artist = (\n",
    "            sp.search(name, type='artist')\n",
    "            ['artists']\n",
    "            ['items']\n",
    "        )\n",
    "\n",
    "        if artist:\n",
    "\n",
    "            if len(artist) < max_iter:\n",
    "                total_iter = len(artist)\n",
    "            else:\n",
    "                total_iter = max_iter\n",
    "\n",
    "            for i in range(total_iter):\n",
    "\n",
    "                if name == artist[i]['name']:\n",
    "                    artist_dict.append(get_artist_dict(artist[i]))\n",
    "                    break\n",
    "\n",
    "            if len(artist_dict) == total_artist:\n",
    "                no_data_artist.append(name)  \n",
    "        else:\n",
    "            no_data_artist.append(name)\n",
    "\n",
    "    sp_artist = pd.DataFrame(artist_dict)\n",
    "\n",
    "    genres = set(sum(sp_artist.genres.tolist(), []))\n",
    "\n",
    "    metal_genres = [\n",
    "        g for g in genres\n",
    "        if any(m in g for m in config['metal_genres'])\n",
    "    ]\n",
    "\n",
    "    others = [g for g in genres if g not in metal_genres]\n",
    "\n",
    "    sp_artist['is_metal_artist'] = sp_artist['genres'].apply(is_metal_artist)\n",
    "    sp_artist.to_csv(f'data/refined/spotify_{l}.csv', index=False)"
   ]
  },
  {
   "cell_type": "code",
   "execution_count": null,
   "metadata": {},
   "outputs": [],
   "source": []
  }
 ],
 "metadata": {
  "kernelspec": {
   "display_name": "Python 3",
   "language": "python",
   "name": "python3"
  },
  "language_info": {
   "codemirror_mode": {
    "name": "ipython",
    "version": 3
   },
   "file_extension": ".py",
   "mimetype": "text/x-python",
   "name": "python",
   "nbconvert_exporter": "python",
   "pygments_lexer": "ipython3",
   "version": "3.8.3"
  }
 },
 "nbformat": 4,
 "nbformat_minor": 4
}
