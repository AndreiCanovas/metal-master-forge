{
 "cells": [
  {
   "cell_type": "code",
   "execution_count": 192,
   "metadata": {},
   "outputs": [],
   "source": [
    "from time import sleep as s\n",
    "from selenium import webdriver\n",
    "from bs4 import BeautifulSoup as bs4\n",
    "\n",
    "from selenium.webdriver.common.by import By\n",
    "from selenium.webdriver.support.ui import WebDriverWait\n",
    "from selenium.webdriver.support import expected_conditions as EC\n",
    "\n",
    "K = [\n",
    "    'A','B','C','D','E',\n",
    "    'F','G','H','I','J',\n",
    "    'K','L','M','N','O',\n",
    "    'P','Q','R','S','T',\n",
    "    'U','V','W','X','Y',\n",
    "    'Z','#','~',\n",
    "]"
   ]
  },
  {
   "cell_type": "code",
   "execution_count": 193,
   "metadata": {},
   "outputs": [],
   "source": [
    "driver = webdriver.Firefox()\n",
    "btt_xpath = '/html/body/div/div[3]/div[2]/div/div/div[8]/a[3]'\n",
    "firs_row_col_xpath = '/html/body/div/div[3]/div[2]/div/div/div[5]/table/tbody/tr[1]/td[1]/a' \n",
    "\n",
    "for k in K:\n",
    "    \n",
    "    bands_list = []\n",
    "    is_first_iter = True\n",
    "    url = f'https://www.metal-archives.com/lists/{k}'\n",
    "\n",
    "    driver.get(url)\n",
    "\n",
    "    wait = WebDriverWait(driver, 10)\n",
    "    wait.until(EC.presence_of_element_located((By.XPATH, firs_row_col_xpath)))\n",
    "\n",
    "    while True:\n",
    "\n",
    "        html = bs4(\n",
    "            driver.page_source,\n",
    "            \"html.parser\"\n",
    "        )\n",
    "\n",
    "        bands_info = [c.text for r in html.find_all('tr') for c in r.find_all('td')]\n",
    "\n",
    "        if is_first_iter:\n",
    "            is_first_iter = False\n",
    "            last_iter_hash = ''.join(bands_info[-4:])\n",
    "\n",
    "        else:\n",
    "            current_iter_hash = ''.join(bands_info[-4:])\n",
    "            if current_iter_hash == last_iter_hash:\n",
    "                break\n",
    "            else:\n",
    "                last_iter_hash = current_iter_hash\n",
    "\n",
    "        bands_dict = [\n",
    "            {\n",
    "                'name':    bands_info[i],\n",
    "                'country': bands_info[i+1],\n",
    "                'genre':   bands_info[i+2],\n",
    "                'status':  bands_info[i+3],\n",
    "            }\n",
    "            for i in range(0, len(bands_info), 4)    \n",
    "        ]\n",
    "\n",
    "        bands_list += bands_dict.copy()\n",
    "\n",
    "        button = driver.find_element(By.XPATH, btt_xpath)\n",
    "        button.click()\n",
    "        s(3)\n",
    "        \n",
    "    pd.DataFrame(bands_list).to_csv(f'bands_{k}.csv')"
   ]
  },
  {
   "cell_type": "code",
   "execution_count": null,
   "metadata": {},
   "outputs": [],
   "source": []
  }
 ],
 "metadata": {
  "kernelspec": {
   "display_name": "Python 3",
   "language": "python",
   "name": "python3"
  },
  "language_info": {
   "codemirror_mode": {
    "name": "ipython",
    "version": 3
   },
   "file_extension": ".py",
   "mimetype": "text/x-python",
   "name": "python",
   "nbconvert_exporter": "python",
   "pygments_lexer": "ipython3",
   "version": "3.8.3"
  }
 },
 "nbformat": 4,
 "nbformat_minor": 4
}
